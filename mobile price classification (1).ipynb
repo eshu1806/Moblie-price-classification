{
 "cells": [
  {
   "cell_type": "code",
   "execution_count": 2,
   "id": "27095f42",
   "metadata": {
    "_cell_guid": "b1076dfc-b9ad-4769-8c92-a6c4dae69d19",
    "_uuid": "8f2839f25d086af736a60e9eeb907d3b93b6e0e5",
    "execution": {
     "iopub.execute_input": "2022-10-11T18:09:24.648995Z",
     "iopub.status.busy": "2022-10-11T18:09:24.648593Z",
     "iopub.status.idle": "2022-10-11T18:09:26.512434Z",
     "shell.execute_reply": "2022-10-11T18:09:26.511100Z"
    },
    "papermill": {
     "duration": 1.87561,
     "end_time": "2022-10-11T18:09:26.515067",
     "exception": false,
     "start_time": "2022-10-11T18:09:24.639457",
     "status": "completed"
    },
    "tags": []
   },
   "outputs": [],
   "source": [
    "import numpy as np \n",
    "import pandas as pd\n",
    "import seaborn as sns\n",
    "import matplotlib.pyplot as plt"
   ]
  },
  {
   "cell_type": "code",
   "execution_count": 3,
   "id": "e3cc2c2a",
   "metadata": {
    "execution": {
     "iopub.execute_input": "2022-10-11T18:09:26.531436Z",
     "iopub.status.busy": "2022-10-11T18:09:26.530935Z",
     "iopub.status.idle": "2022-10-11T18:09:26.599358Z",
     "shell.execute_reply": "2022-10-11T18:09:26.598503Z"
    },
    "papermill": {
     "duration": 0.07987,
     "end_time": "2022-10-11T18:09:26.602322",
     "exception": false,
     "start_time": "2022-10-11T18:09:26.522452",
     "status": "completed"
    },
    "tags": []
   },
   "outputs": [
    {
     "data": {
      "text/html": [
       "<div>\n",
       "<style scoped>\n",
       "    .dataframe tbody tr th:only-of-type {\n",
       "        vertical-align: middle;\n",
       "    }\n",
       "\n",
       "    .dataframe tbody tr th {\n",
       "        vertical-align: top;\n",
       "    }\n",
       "\n",
       "    .dataframe thead th {\n",
       "        text-align: right;\n",
       "    }\n",
       "</style>\n",
       "<table border=\"1\" class=\"dataframe\">\n",
       "  <thead>\n",
       "    <tr style=\"text-align: right;\">\n",
       "      <th></th>\n",
       "      <th>battery_power</th>\n",
       "      <th>blue</th>\n",
       "      <th>clock_speed</th>\n",
       "      <th>dual_sim</th>\n",
       "      <th>fc</th>\n",
       "      <th>four_g</th>\n",
       "      <th>int_memory</th>\n",
       "      <th>m_dep</th>\n",
       "      <th>mobile_wt</th>\n",
       "      <th>n_cores</th>\n",
       "      <th>...</th>\n",
       "      <th>px_height</th>\n",
       "      <th>px_width</th>\n",
       "      <th>ram</th>\n",
       "      <th>sc_h</th>\n",
       "      <th>sc_w</th>\n",
       "      <th>talk_time</th>\n",
       "      <th>three_g</th>\n",
       "      <th>touch_screen</th>\n",
       "      <th>wifi</th>\n",
       "      <th>price_range</th>\n",
       "    </tr>\n",
       "  </thead>\n",
       "  <tbody>\n",
       "    <tr>\n",
       "      <th>0</th>\n",
       "      <td>842</td>\n",
       "      <td>0</td>\n",
       "      <td>2.2</td>\n",
       "      <td>0</td>\n",
       "      <td>1</td>\n",
       "      <td>0</td>\n",
       "      <td>7</td>\n",
       "      <td>0.6</td>\n",
       "      <td>188</td>\n",
       "      <td>2</td>\n",
       "      <td>...</td>\n",
       "      <td>20</td>\n",
       "      <td>756</td>\n",
       "      <td>2549</td>\n",
       "      <td>9</td>\n",
       "      <td>7</td>\n",
       "      <td>19</td>\n",
       "      <td>0</td>\n",
       "      <td>0</td>\n",
       "      <td>1</td>\n",
       "      <td>1</td>\n",
       "    </tr>\n",
       "    <tr>\n",
       "      <th>1</th>\n",
       "      <td>1021</td>\n",
       "      <td>1</td>\n",
       "      <td>0.5</td>\n",
       "      <td>1</td>\n",
       "      <td>0</td>\n",
       "      <td>1</td>\n",
       "      <td>53</td>\n",
       "      <td>0.7</td>\n",
       "      <td>136</td>\n",
       "      <td>3</td>\n",
       "      <td>...</td>\n",
       "      <td>905</td>\n",
       "      <td>1988</td>\n",
       "      <td>2631</td>\n",
       "      <td>17</td>\n",
       "      <td>3</td>\n",
       "      <td>7</td>\n",
       "      <td>1</td>\n",
       "      <td>1</td>\n",
       "      <td>0</td>\n",
       "      <td>2</td>\n",
       "    </tr>\n",
       "    <tr>\n",
       "      <th>2</th>\n",
       "      <td>563</td>\n",
       "      <td>1</td>\n",
       "      <td>0.5</td>\n",
       "      <td>1</td>\n",
       "      <td>2</td>\n",
       "      <td>1</td>\n",
       "      <td>41</td>\n",
       "      <td>0.9</td>\n",
       "      <td>145</td>\n",
       "      <td>5</td>\n",
       "      <td>...</td>\n",
       "      <td>1263</td>\n",
       "      <td>1716</td>\n",
       "      <td>2603</td>\n",
       "      <td>11</td>\n",
       "      <td>2</td>\n",
       "      <td>9</td>\n",
       "      <td>1</td>\n",
       "      <td>1</td>\n",
       "      <td>0</td>\n",
       "      <td>2</td>\n",
       "    </tr>\n",
       "    <tr>\n",
       "      <th>3</th>\n",
       "      <td>615</td>\n",
       "      <td>1</td>\n",
       "      <td>2.5</td>\n",
       "      <td>0</td>\n",
       "      <td>0</td>\n",
       "      <td>0</td>\n",
       "      <td>10</td>\n",
       "      <td>0.8</td>\n",
       "      <td>131</td>\n",
       "      <td>6</td>\n",
       "      <td>...</td>\n",
       "      <td>1216</td>\n",
       "      <td>1786</td>\n",
       "      <td>2769</td>\n",
       "      <td>16</td>\n",
       "      <td>8</td>\n",
       "      <td>11</td>\n",
       "      <td>1</td>\n",
       "      <td>0</td>\n",
       "      <td>0</td>\n",
       "      <td>2</td>\n",
       "    </tr>\n",
       "    <tr>\n",
       "      <th>4</th>\n",
       "      <td>1821</td>\n",
       "      <td>1</td>\n",
       "      <td>1.2</td>\n",
       "      <td>0</td>\n",
       "      <td>13</td>\n",
       "      <td>1</td>\n",
       "      <td>44</td>\n",
       "      <td>0.6</td>\n",
       "      <td>141</td>\n",
       "      <td>2</td>\n",
       "      <td>...</td>\n",
       "      <td>1208</td>\n",
       "      <td>1212</td>\n",
       "      <td>1411</td>\n",
       "      <td>8</td>\n",
       "      <td>2</td>\n",
       "      <td>15</td>\n",
       "      <td>1</td>\n",
       "      <td>1</td>\n",
       "      <td>0</td>\n",
       "      <td>1</td>\n",
       "    </tr>\n",
       "    <tr>\n",
       "      <th>5</th>\n",
       "      <td>1859</td>\n",
       "      <td>0</td>\n",
       "      <td>0.5</td>\n",
       "      <td>1</td>\n",
       "      <td>3</td>\n",
       "      <td>0</td>\n",
       "      <td>22</td>\n",
       "      <td>0.7</td>\n",
       "      <td>164</td>\n",
       "      <td>1</td>\n",
       "      <td>...</td>\n",
       "      <td>1004</td>\n",
       "      <td>1654</td>\n",
       "      <td>1067</td>\n",
       "      <td>17</td>\n",
       "      <td>1</td>\n",
       "      <td>10</td>\n",
       "      <td>1</td>\n",
       "      <td>0</td>\n",
       "      <td>0</td>\n",
       "      <td>1</td>\n",
       "    </tr>\n",
       "    <tr>\n",
       "      <th>6</th>\n",
       "      <td>1821</td>\n",
       "      <td>0</td>\n",
       "      <td>1.7</td>\n",
       "      <td>0</td>\n",
       "      <td>4</td>\n",
       "      <td>1</td>\n",
       "      <td>10</td>\n",
       "      <td>0.8</td>\n",
       "      <td>139</td>\n",
       "      <td>8</td>\n",
       "      <td>...</td>\n",
       "      <td>381</td>\n",
       "      <td>1018</td>\n",
       "      <td>3220</td>\n",
       "      <td>13</td>\n",
       "      <td>8</td>\n",
       "      <td>18</td>\n",
       "      <td>1</td>\n",
       "      <td>0</td>\n",
       "      <td>1</td>\n",
       "      <td>3</td>\n",
       "    </tr>\n",
       "    <tr>\n",
       "      <th>7</th>\n",
       "      <td>1954</td>\n",
       "      <td>0</td>\n",
       "      <td>0.5</td>\n",
       "      <td>1</td>\n",
       "      <td>0</td>\n",
       "      <td>0</td>\n",
       "      <td>24</td>\n",
       "      <td>0.8</td>\n",
       "      <td>187</td>\n",
       "      <td>4</td>\n",
       "      <td>...</td>\n",
       "      <td>512</td>\n",
       "      <td>1149</td>\n",
       "      <td>700</td>\n",
       "      <td>16</td>\n",
       "      <td>3</td>\n",
       "      <td>5</td>\n",
       "      <td>1</td>\n",
       "      <td>1</td>\n",
       "      <td>1</td>\n",
       "      <td>0</td>\n",
       "    </tr>\n",
       "    <tr>\n",
       "      <th>8</th>\n",
       "      <td>1445</td>\n",
       "      <td>1</td>\n",
       "      <td>0.5</td>\n",
       "      <td>0</td>\n",
       "      <td>0</td>\n",
       "      <td>0</td>\n",
       "      <td>53</td>\n",
       "      <td>0.7</td>\n",
       "      <td>174</td>\n",
       "      <td>7</td>\n",
       "      <td>...</td>\n",
       "      <td>386</td>\n",
       "      <td>836</td>\n",
       "      <td>1099</td>\n",
       "      <td>17</td>\n",
       "      <td>1</td>\n",
       "      <td>20</td>\n",
       "      <td>1</td>\n",
       "      <td>0</td>\n",
       "      <td>0</td>\n",
       "      <td>0</td>\n",
       "    </tr>\n",
       "    <tr>\n",
       "      <th>9</th>\n",
       "      <td>509</td>\n",
       "      <td>1</td>\n",
       "      <td>0.6</td>\n",
       "      <td>1</td>\n",
       "      <td>2</td>\n",
       "      <td>1</td>\n",
       "      <td>9</td>\n",
       "      <td>0.1</td>\n",
       "      <td>93</td>\n",
       "      <td>5</td>\n",
       "      <td>...</td>\n",
       "      <td>1137</td>\n",
       "      <td>1224</td>\n",
       "      <td>513</td>\n",
       "      <td>19</td>\n",
       "      <td>10</td>\n",
       "      <td>12</td>\n",
       "      <td>1</td>\n",
       "      <td>0</td>\n",
       "      <td>0</td>\n",
       "      <td>0</td>\n",
       "    </tr>\n",
       "    <tr>\n",
       "      <th>10</th>\n",
       "      <td>769</td>\n",
       "      <td>1</td>\n",
       "      <td>2.9</td>\n",
       "      <td>1</td>\n",
       "      <td>0</td>\n",
       "      <td>0</td>\n",
       "      <td>9</td>\n",
       "      <td>0.1</td>\n",
       "      <td>182</td>\n",
       "      <td>5</td>\n",
       "      <td>...</td>\n",
       "      <td>248</td>\n",
       "      <td>874</td>\n",
       "      <td>3946</td>\n",
       "      <td>5</td>\n",
       "      <td>2</td>\n",
       "      <td>7</td>\n",
       "      <td>0</td>\n",
       "      <td>0</td>\n",
       "      <td>0</td>\n",
       "      <td>3</td>\n",
       "    </tr>\n",
       "    <tr>\n",
       "      <th>11</th>\n",
       "      <td>1520</td>\n",
       "      <td>1</td>\n",
       "      <td>2.2</td>\n",
       "      <td>0</td>\n",
       "      <td>5</td>\n",
       "      <td>1</td>\n",
       "      <td>33</td>\n",
       "      <td>0.5</td>\n",
       "      <td>177</td>\n",
       "      <td>8</td>\n",
       "      <td>...</td>\n",
       "      <td>151</td>\n",
       "      <td>1005</td>\n",
       "      <td>3826</td>\n",
       "      <td>14</td>\n",
       "      <td>9</td>\n",
       "      <td>13</td>\n",
       "      <td>1</td>\n",
       "      <td>1</td>\n",
       "      <td>1</td>\n",
       "      <td>3</td>\n",
       "    </tr>\n",
       "    <tr>\n",
       "      <th>12</th>\n",
       "      <td>1815</td>\n",
       "      <td>0</td>\n",
       "      <td>2.8</td>\n",
       "      <td>0</td>\n",
       "      <td>2</td>\n",
       "      <td>0</td>\n",
       "      <td>33</td>\n",
       "      <td>0.6</td>\n",
       "      <td>159</td>\n",
       "      <td>4</td>\n",
       "      <td>...</td>\n",
       "      <td>607</td>\n",
       "      <td>748</td>\n",
       "      <td>1482</td>\n",
       "      <td>18</td>\n",
       "      <td>0</td>\n",
       "      <td>2</td>\n",
       "      <td>1</td>\n",
       "      <td>0</td>\n",
       "      <td>0</td>\n",
       "      <td>1</td>\n",
       "    </tr>\n",
       "    <tr>\n",
       "      <th>13</th>\n",
       "      <td>803</td>\n",
       "      <td>1</td>\n",
       "      <td>2.1</td>\n",
       "      <td>0</td>\n",
       "      <td>7</td>\n",
       "      <td>0</td>\n",
       "      <td>17</td>\n",
       "      <td>1.0</td>\n",
       "      <td>198</td>\n",
       "      <td>4</td>\n",
       "      <td>...</td>\n",
       "      <td>344</td>\n",
       "      <td>1440</td>\n",
       "      <td>2680</td>\n",
       "      <td>7</td>\n",
       "      <td>1</td>\n",
       "      <td>4</td>\n",
       "      <td>1</td>\n",
       "      <td>0</td>\n",
       "      <td>1</td>\n",
       "      <td>2</td>\n",
       "    </tr>\n",
       "    <tr>\n",
       "      <th>14</th>\n",
       "      <td>1866</td>\n",
       "      <td>0</td>\n",
       "      <td>0.5</td>\n",
       "      <td>0</td>\n",
       "      <td>13</td>\n",
       "      <td>1</td>\n",
       "      <td>52</td>\n",
       "      <td>0.7</td>\n",
       "      <td>185</td>\n",
       "      <td>1</td>\n",
       "      <td>...</td>\n",
       "      <td>356</td>\n",
       "      <td>563</td>\n",
       "      <td>373</td>\n",
       "      <td>14</td>\n",
       "      <td>9</td>\n",
       "      <td>3</td>\n",
       "      <td>1</td>\n",
       "      <td>0</td>\n",
       "      <td>1</td>\n",
       "      <td>0</td>\n",
       "    </tr>\n",
       "  </tbody>\n",
       "</table>\n",
       "<p>15 rows × 21 columns</p>\n",
       "</div>"
      ],
      "text/plain": [
       "    battery_power  blue  clock_speed  dual_sim  fc  four_g  int_memory  m_dep  \\\n",
       "0             842     0          2.2         0   1       0           7    0.6   \n",
       "1            1021     1          0.5         1   0       1          53    0.7   \n",
       "2             563     1          0.5         1   2       1          41    0.9   \n",
       "3             615     1          2.5         0   0       0          10    0.8   \n",
       "4            1821     1          1.2         0  13       1          44    0.6   \n",
       "5            1859     0          0.5         1   3       0          22    0.7   \n",
       "6            1821     0          1.7         0   4       1          10    0.8   \n",
       "7            1954     0          0.5         1   0       0          24    0.8   \n",
       "8            1445     1          0.5         0   0       0          53    0.7   \n",
       "9             509     1          0.6         1   2       1           9    0.1   \n",
       "10            769     1          2.9         1   0       0           9    0.1   \n",
       "11           1520     1          2.2         0   5       1          33    0.5   \n",
       "12           1815     0          2.8         0   2       0          33    0.6   \n",
       "13            803     1          2.1         0   7       0          17    1.0   \n",
       "14           1866     0          0.5         0  13       1          52    0.7   \n",
       "\n",
       "    mobile_wt  n_cores  ...  px_height  px_width   ram  sc_h  sc_w  talk_time  \\\n",
       "0         188        2  ...         20       756  2549     9     7         19   \n",
       "1         136        3  ...        905      1988  2631    17     3          7   \n",
       "2         145        5  ...       1263      1716  2603    11     2          9   \n",
       "3         131        6  ...       1216      1786  2769    16     8         11   \n",
       "4         141        2  ...       1208      1212  1411     8     2         15   \n",
       "5         164        1  ...       1004      1654  1067    17     1         10   \n",
       "6         139        8  ...        381      1018  3220    13     8         18   \n",
       "7         187        4  ...        512      1149   700    16     3          5   \n",
       "8         174        7  ...        386       836  1099    17     1         20   \n",
       "9          93        5  ...       1137      1224   513    19    10         12   \n",
       "10        182        5  ...        248       874  3946     5     2          7   \n",
       "11        177        8  ...        151      1005  3826    14     9         13   \n",
       "12        159        4  ...        607       748  1482    18     0          2   \n",
       "13        198        4  ...        344      1440  2680     7     1          4   \n",
       "14        185        1  ...        356       563   373    14     9          3   \n",
       "\n",
       "    three_g  touch_screen  wifi  price_range  \n",
       "0         0             0     1            1  \n",
       "1         1             1     0            2  \n",
       "2         1             1     0            2  \n",
       "3         1             0     0            2  \n",
       "4         1             1     0            1  \n",
       "5         1             0     0            1  \n",
       "6         1             0     1            3  \n",
       "7         1             1     1            0  \n",
       "8         1             0     0            0  \n",
       "9         1             0     0            0  \n",
       "10        0             0     0            3  \n",
       "11        1             1     1            3  \n",
       "12        1             0     0            1  \n",
       "13        1             0     1            2  \n",
       "14        1             0     1            0  \n",
       "\n",
       "[15 rows x 21 columns]"
      ]
     },
     "execution_count": 3,
     "metadata": {},
     "output_type": "execute_result"
    }
   ],
   "source": [
    "df = pd.read_csv(\"train.csv\") \n",
    "df.head(15)"
   ]
  },
  {
   "cell_type": "code",
   "execution_count": 4,
   "id": "b9502bd5",
   "metadata": {
    "execution": {
     "iopub.execute_input": "2022-10-11T18:09:26.619697Z",
     "iopub.status.busy": "2022-10-11T18:09:26.618947Z",
     "iopub.status.idle": "2022-10-11T18:09:26.649221Z",
     "shell.execute_reply": "2022-10-11T18:09:26.647713Z"
    },
    "papermill": {
     "duration": 0.042997,
     "end_time": "2022-10-11T18:09:26.652842",
     "exception": false,
     "start_time": "2022-10-11T18:09:26.609845",
     "status": "completed"
    },
    "tags": []
   },
   "outputs": [
    {
     "name": "stdout",
     "output_type": "stream",
     "text": [
      "<class 'pandas.core.frame.DataFrame'>\n",
      "RangeIndex: 2000 entries, 0 to 1999\n",
      "Data columns (total 21 columns):\n",
      " #   Column         Non-Null Count  Dtype  \n",
      "---  ------         --------------  -----  \n",
      " 0   battery_power  2000 non-null   int64  \n",
      " 1   blue           2000 non-null   int64  \n",
      " 2   clock_speed    2000 non-null   float64\n",
      " 3   dual_sim       2000 non-null   int64  \n",
      " 4   fc             2000 non-null   int64  \n",
      " 5   four_g         2000 non-null   int64  \n",
      " 6   int_memory     2000 non-null   int64  \n",
      " 7   m_dep          2000 non-null   float64\n",
      " 8   mobile_wt      2000 non-null   int64  \n",
      " 9   n_cores        2000 non-null   int64  \n",
      " 10  pc             2000 non-null   int64  \n",
      " 11  px_height      2000 non-null   int64  \n",
      " 12  px_width       2000 non-null   int64  \n",
      " 13  ram            2000 non-null   int64  \n",
      " 14  sc_h           2000 non-null   int64  \n",
      " 15  sc_w           2000 non-null   int64  \n",
      " 16  talk_time      2000 non-null   int64  \n",
      " 17  three_g        2000 non-null   int64  \n",
      " 18  touch_screen   2000 non-null   int64  \n",
      " 19  wifi           2000 non-null   int64  \n",
      " 20  price_range    2000 non-null   int64  \n",
      "dtypes: float64(2), int64(19)\n",
      "memory usage: 328.2 KB\n"
     ]
    }
   ],
   "source": [
    "df.info()"
   ]
  },
  {
   "cell_type": "code",
   "execution_count": 5,
   "id": "b4109892",
   "metadata": {
    "execution": {
     "iopub.execute_input": "2022-10-11T18:09:26.670968Z",
     "iopub.status.busy": "2022-10-11T18:09:26.670459Z",
     "iopub.status.idle": "2022-10-11T18:09:26.678074Z",
     "shell.execute_reply": "2022-10-11T18:09:26.677221Z"
    },
    "papermill": {
     "duration": 0.018571,
     "end_time": "2022-10-11T18:09:26.680283",
     "exception": false,
     "start_time": "2022-10-11T18:09:26.661712",
     "status": "completed"
    },
    "tags": []
   },
   "outputs": [
    {
     "name": "stdout",
     "output_type": "stream",
     "text": [
      "battery_power    False\n",
      "blue             False\n",
      "clock_speed      False\n",
      "dual_sim         False\n",
      "fc               False\n",
      "four_g           False\n",
      "int_memory       False\n",
      "m_dep            False\n",
      "mobile_wt        False\n",
      "n_cores          False\n",
      "pc               False\n",
      "px_height        False\n",
      "px_width         False\n",
      "ram              False\n",
      "sc_h             False\n",
      "sc_w             False\n",
      "talk_time        False\n",
      "three_g          False\n",
      "touch_screen     False\n",
      "wifi             False\n",
      "price_range      False\n",
      "dtype: bool\n"
     ]
    }
   ],
   "source": [
    "print(df.isnull().any())"
   ]
  },
  {
   "cell_type": "code",
   "execution_count": 6,
   "id": "a181472a",
   "metadata": {
    "execution": {
     "iopub.execute_input": "2022-10-11T18:09:26.697706Z",
     "iopub.status.busy": "2022-10-11T18:09:26.697197Z",
     "iopub.status.idle": "2022-10-11T18:09:26.705012Z",
     "shell.execute_reply": "2022-10-11T18:09:26.703696Z"
    },
    "papermill": {
     "duration": 0.019147,
     "end_time": "2022-10-11T18:09:26.707420",
     "exception": false,
     "start_time": "2022-10-11T18:09:26.688273",
     "status": "completed"
    },
    "tags": []
   },
   "outputs": [
    {
     "data": {
      "text/plain": [
       "(2000, 21)"
      ]
     },
     "execution_count": 6,
     "metadata": {},
     "output_type": "execute_result"
    }
   ],
   "source": [
    "df.shape"
   ]
  },
  {
   "cell_type": "code",
   "execution_count": 7,
   "id": "c965744b",
   "metadata": {
    "execution": {
     "iopub.execute_input": "2022-10-11T18:09:26.725317Z",
     "iopub.status.busy": "2022-10-11T18:09:26.724997Z",
     "iopub.status.idle": "2022-10-11T18:09:26.731114Z",
     "shell.execute_reply": "2022-10-11T18:09:26.730038Z"
    },
    "papermill": {
     "duration": 0.017118,
     "end_time": "2022-10-11T18:09:26.733339",
     "exception": false,
     "start_time": "2022-10-11T18:09:26.716221",
     "status": "completed"
    },
    "tags": []
   },
   "outputs": [
    {
     "data": {
      "text/plain": [
       "Index(['battery_power', 'blue', 'clock_speed', 'dual_sim', 'fc', 'four_g',\n",
       "       'int_memory', 'm_dep', 'mobile_wt', 'n_cores', 'pc', 'px_height',\n",
       "       'px_width', 'ram', 'sc_h', 'sc_w', 'talk_time', 'three_g',\n",
       "       'touch_screen', 'wifi', 'price_range'],\n",
       "      dtype='object')"
      ]
     },
     "execution_count": 7,
     "metadata": {},
     "output_type": "execute_result"
    }
   ],
   "source": [
    "df.columns"
   ]
  },
  {
   "cell_type": "code",
   "execution_count": 8,
   "id": "0c9fdf61",
   "metadata": {
    "execution": {
     "iopub.execute_input": "2022-10-11T18:09:26.750625Z",
     "iopub.status.busy": "2022-10-11T18:09:26.750096Z",
     "iopub.status.idle": "2022-10-11T18:09:27.524892Z",
     "shell.execute_reply": "2022-10-11T18:09:27.523345Z"
    },
    "papermill": {
     "duration": 0.786848,
     "end_time": "2022-10-11T18:09:27.528115",
     "exception": false,
     "start_time": "2022-10-11T18:09:26.741267",
     "status": "completed"
    },
    "tags": []
   },
   "outputs": [
    {
     "data": {
      "image/png": "[encoded data removed]",
      "text/plain": [
       "<Figure size 864x720 with 6 Axes>"
      ]
     },
     "metadata": {
      "needs_background": "light"
     },
     "output_type": "display_data"
    }
   ],
   "source": [
    "plt.figure(figsize=(12,10))\n",
    "col = ['blue','dual_sim','four_g','three_g','touch_screen','price_range']\n",
    "c = 1\n",
    "for i in col:\n",
    "    if c < 7:\n",
    "        plt.subplot(2,3,c)\n",
    "        sns.countplot(x = i,data =df)\n",
    "        plt.xlabel(i)\n",
    "    c += 1\n",
    "    plt.tight_layout()"
   ]
  },
  {
   "cell_type": "code",
   "execution_count": 9,
   "id": "10ea1d37",
   "metadata": {
    "execution": {
     "iopub.execute_input": "2022-10-11T18:09:27.549430Z",
     "iopub.status.busy": "2022-10-11T18:09:27.549063Z",
     "iopub.status.idle": "2022-10-11T18:09:27.910527Z",
     "shell.execute_reply": "2022-10-11T18:09:27.909755Z"
    },
    "papermill": {
     "duration": 0.374637,
     "end_time": "2022-10-11T18:09:27.912397",
     "exception": false,
     "start_time": "2022-10-11T18:09:27.537760",
     "status": "completed"
    },
    "tags": []
   },
   "outputs": [
    {
     "data": {
      "text/plain": [
       "<seaborn.axisgrid.FacetGrid at 0x2015a7ab550>"
      ]
     },
     "execution_count": 9,
     "metadata": {},
     "output_type": "execute_result"
    },
    {
     "data": {
      "text/plain": [
       "<Figure size 864x720 with 0 Axes>"
      ]
     },
     "metadata": {},
     "output_type": "display_data"
    },
    {
     "data": {
      "image/png": "[encoded data removed]",
      "text/plain": [
       "<Figure size 360x360 with 1 Axes>"
      ]
     },
     "metadata": {
      "needs_background": "light"
     },
     "output_type": "display_data"
    }
   ],
   "source": [
    "plt.figure(figsize=(12,10))\n",
    "sns.relplot(x = 'price_range',y = 'ram',data = df,kind = 'line')"
   ]
  },
  {
   "cell_type": "code",
   "execution_count": 10,
   "id": "44d0608c",
   "metadata": {
    "execution": {
     "iopub.execute_input": "2022-10-11T18:09:27.931368Z",
     "iopub.status.busy": "2022-10-11T18:09:27.931016Z",
     "iopub.status.idle": "2022-10-11T18:09:27.938331Z",
     "shell.execute_reply": "2022-10-11T18:09:27.937430Z"
    },
    "papermill": {
     "duration": 0.019538,
     "end_time": "2022-10-11T18:09:27.940592",
     "exception": false,
     "start_time": "2022-10-11T18:09:27.921054",
     "status": "completed"
    },
    "tags": []
   },
   "outputs": [
    {
     "data": {
      "text/plain": [
       "1    500\n",
       "2    500\n",
       "3    500\n",
       "0    500\n",
       "Name: price_range, dtype: int64"
      ]
     },
     "execution_count": 10,
     "metadata": {},
     "output_type": "execute_result"
    }
   ],
   "source": [
    "df['price_range'].value_counts() # Number of Unique value of price_range columns."
   ]
  },
  {
   "cell_type": "code",
   "execution_count": 11,
   "id": "1672db14",
   "metadata": {
    "execution": {
     "iopub.execute_input": "2022-10-11T18:09:27.960440Z",
     "iopub.status.busy": "2022-10-11T18:09:27.959457Z",
     "iopub.status.idle": "2022-10-11T18:09:28.076517Z",
     "shell.execute_reply": "2022-10-11T18:09:28.075712Z"
    },
    "papermill": {
     "duration": 0.129313,
     "end_time": "2022-10-11T18:09:28.078599",
     "exception": false,
     "start_time": "2022-10-11T18:09:27.949286",
     "status": "completed"
    },
    "tags": []
   },
   "outputs": [
    {
     "data": {
      "image/png": "[encoded data removed]",
      "text/plain": [
       "<Figure size 432x288 with 1 Axes>"
      ]
     },
     "metadata": {
      "needs_background": "light"
     },
     "output_type": "display_data"
    }
   ],
   "source": [
    "sns.countplot(x = 'price_range',data=df,palette = 'hls')\n",
    "plt.show()"
   ]
  },
  {
   "cell_type": "code",
   "execution_count": 12,
   "id": "4d7dd60d",
   "metadata": {
    "execution": {
     "iopub.execute_input": "2022-10-11T18:09:28.106112Z",
     "iopub.status.busy": "2022-10-11T18:09:28.104612Z",
     "iopub.status.idle": "2022-10-11T18:09:28.673587Z",
     "shell.execute_reply": "2022-10-11T18:09:28.671870Z"
    },
    "papermill": {
     "duration": 0.585535,
     "end_time": "2022-10-11T18:09:28.676385",
     "exception": false,
     "start_time": "2022-10-11T18:09:28.090850",
     "status": "completed"
    },
    "tags": []
   },
   "outputs": [
    {
     "data": {
      "image/png": "[encoded data removed]",
      "text/plain": [
       "<Figure size 1296x720 with 6 Axes>"
      ]
     },
     "metadata": {
      "needs_background": "light"
     },
     "output_type": "display_data"
    }
   ],
   "source": [
    "fig, axes = plt.subplots(2, 3, figsize=(18, 10))\n",
    "fig.suptitle('Price Range vs all numerical factor')\n",
    "sns.countplot(ax=axes[0, 0], data=df, x='three_g',palette='RdPu')\n",
    "sns.countplot(ax=axes[0, 1], data=df, x='touch_screen',palette='RdPu')\n",
    "sns.countplot(ax=axes[0, 2], data=df, x='four_g',palette='RdPu')\n",
    "sns.countplot(ax=axes[1, 0], data=df, x='wifi',palette='RdPu')\n",
    "sns.countplot(ax=axes[1,1],data = df, x ='fc' ,palette='RdPu')\n",
    "sns.countplot(ax=axes[1,2],data = df, x ='dual_sim',palette='RdPu' )\n",
    "plt.show()"
   ]
  },
  {
   "cell_type": "code",
   "execution_count": 13,
   "id": "59f41df7",
   "metadata": {
    "execution": {
     "iopub.execute_input": "2022-10-11T18:09:28.697610Z",
     "iopub.status.busy": "2022-10-11T18:09:28.697253Z",
     "iopub.status.idle": "2022-10-11T18:09:29.273089Z",
     "shell.execute_reply": "2022-10-11T18:09:29.271553Z"
    },
    "papermill": {
     "duration": 0.589863,
     "end_time": "2022-10-11T18:09:29.275929",
     "exception": false,
     "start_time": "2022-10-11T18:09:28.686066",
     "status": "completed"
    },
    "tags": []
   },
   "outputs": [
    {
     "data": {
      "text/plain": [
       "<AxesSubplot:>"
      ]
     },
     "execution_count": 13,
     "metadata": {},
     "output_type": "execute_result"
    },
    {
     "data": {
      "image/png": "[encoded data removed]",
      "text/plain": [
       "<Figure size 1080x864 with 2 Axes>"
      ]
     },
     "metadata": {
      "needs_background": "light"
     },
     "output_type": "display_data"
    }
   ],
   "source": [
    "fig = plt.figure(figsize=(15,12))\n",
    "sns.heatmap(df.corr())"
   ]
  },
  {
   "cell_type": "code",
   "execution_count": 14,
   "id": "ac1314fe",
   "metadata": {
    "execution": {
     "iopub.execute_input": "2022-10-11T18:09:29.298987Z",
     "iopub.status.busy": "2022-10-11T18:09:29.297942Z",
     "iopub.status.idle": "2022-10-11T18:09:30.084041Z",
     "shell.execute_reply": "2022-10-11T18:09:30.082416Z"
    },
    "papermill": {
     "duration": 0.800536,
     "end_time": "2022-10-11T18:09:30.086975",
     "exception": false,
     "start_time": "2022-10-11T18:09:29.286439",
     "status": "completed"
    },
    "tags": []
   },
   "outputs": [
    {
     "data": {
      "image/png": "[encoded data removed]",
      "text/plain": [
       "<Figure size 1296x720 with 6 Axes>"
      ]
     },
     "metadata": {
      "needs_background": "light"
     },
     "output_type": "display_data"
    }
   ],
   "source": [
    "fig, axes = plt.subplots(3, 2, figsize=(18, 10))\n",
    "\n",
    "fig.suptitle('Price Range vs all numerical factor')\n",
    "\n",
    "sns.boxplot(ax=axes[0, 0], data=df, x='price_range', y='battery_power',palette = \"RdBu\")\n",
    "sns.boxplot(ax=axes[0, 1], data=df, x='price_range', y='ram',palette = \"RdBu\")\n",
    "sns.boxplot(ax=axes[1, 0], data=df, x='price_range', y='px_width',palette = \"RdBu\")\n",
    "sns.boxplot(ax=axes[1, 1], data=df, x='price_range', y='px_height',palette = \"RdBu\")\n",
    "sns.boxplot(ax=axes[2,0],data=df,x='price_range',y='mobile_wt',palette = \"RdBu\")\n",
    "sns.boxplot(ax=axes[2,1],data=df,x='price_range',y='int_memory',palette = \"RdBu\")\n",
    "plt.show()"
   ]
  },
  {
   "cell_type": "code",
   "execution_count": null,
   "id": "19ca63d8",
   "metadata": {},
   "outputs": [],
   "source": []
  }
 ],
 "metadata": {
  "kernelspec": {
   "display_name": "Python 3 (ipykernel)",
   "language": "python",
   "name": "python3"
  },
  "language_info": {
   "codemirror_mode": {
    "name": "ipython",
    "version": 3
   },
   "file_extension": ".py",
   "mimetype": "text/x-python",
   "name": "python",
   "nbconvert_exporter": "python",
   "pygments_lexer": "ipython3",
   "version": "3.9.7"
  },
  "papermill": {
   "default_parameters": {},
   "duration": 28.321211,
   "end_time": "2022-10-11T18:09:44.188906",
   "environment_variables": {},
   "exception": null,
   "input_path": "__notebook__.ipynb",
   "output_path": "__notebook__.ipynb",
   "parameters": {},
   "start_time": "2022-10-11T18:09:15.867695",
   "version": "2.3.4"
  }
 },
 "nbformat": 4,
 "nbformat_minor": 5
}
